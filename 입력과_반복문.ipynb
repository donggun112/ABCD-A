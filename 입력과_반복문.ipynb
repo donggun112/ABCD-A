{
  "nbformat": 4,
  "nbformat_minor": 0,
  "metadata": {
    "colab": {
      "provenance": [],
      "authorship_tag": "ABX9TyOOtlpRMO+X2j20piz0sfoN",
      "include_colab_link": true
    },
    "kernelspec": {
      "name": "python3",
      "display_name": "Python 3"
    },
    "language_info": {
      "name": "python"
    }
  },
  "cells": [
    {
      "cell_type": "markdown",
      "metadata": {
        "id": "view-in-github",
        "colab_type": "text"
      },
      "source": [
        "<a href=\"https://colab.research.google.com/github/donggun112/ABCD-A/blob/20250410/%EC%9E%85%EB%A0%A5%EA%B3%BC_%EB%B0%98%EB%B3%B5%EB%AC%B8.ipynb\" target=\"_parent\"><img src=\"https://colab.research.google.com/assets/colab-badge.svg\" alt=\"Open In Colab\"/></a>"
      ]
    },
    {
      "cell_type": "code",
      "execution_count": null,
      "metadata": {
        "id": "1AHQLXT_miLg",
        "colab": {
          "base_uri": "https://localhost:8080/"
        },
        "outputId": "ccf67d63-4081-44f5-bc3e-a004160affcd"
      },
      "outputs": [
        {
          "output_type": "stream",
          "name": "stdout",
          "text": [
            "How old are you20\n",
            "20 years old\n"
          ]
        }
      ],
      "source": [
        "str = input(\"How old are you\")\n",
        "print(str+' years old', sep='')"
      ]
    },
    {
      "cell_type": "code",
      "source": [
        "x = int(input('number : '))\n",
        "print(x)"
      ],
      "metadata": {
        "id": "3-RXdhGBmm92",
        "colab": {
          "base_uri": "https://localhost:8080/"
        },
        "outputId": "dcf88f3f-87ea-4112-a562-173efeda77a2"
      },
      "execution_count": null,
      "outputs": [
        {
          "output_type": "stream",
          "name": "stdout",
          "text": [
            "number : 25\n",
            "25\n"
          ]
        }
      ]
    },
    {
      "cell_type": "code",
      "source": [
        "x = float(input('number : '))\n",
        "print(x)"
      ],
      "metadata": {
        "id": "IKhKF-2AmnAP",
        "colab": {
          "base_uri": "https://localhost:8080/"
        },
        "outputId": "a8d8fc74-8156-4403-d1da-249eecb65269"
      },
      "execution_count": null,
      "outputs": [
        {
          "output_type": "stream",
          "name": "stdout",
          "text": [
            "number : 20\n",
            "20.0\n"
          ]
        }
      ]
    },
    {
      "cell_type": "code",
      "source": [
        "year = input(\"This year: \")\n",
        "year = eval(year)\n",
        "year = year + 1\n",
        "print(\"next year\", year)"
      ],
      "metadata": {
        "id": "ZL-2I4ftmnC-",
        "colab": {
          "base_uri": "https://localhost:8080/"
        },
        "outputId": "0dc41e23-0b12-4427-99b1-1320e8e9c4b3"
      },
      "execution_count": null,
      "outputs": [
        {
          "output_type": "stream",
          "name": "stdout",
          "text": [
            "This year: 2025\n",
            "next year 2026\n"
          ]
        }
      ]
    },
    {
      "cell_type": "code",
      "source": [
        "]i = 0\n",
        "result = 0\n",
        "while i < 5 :\n",
        "  print(f'{i}번째 ', end=\" \")\n",
        "  a = input(\"성적 입력 : \")\n",
        "  result += int(a)\n",
        "  i += 1\n",
        "\n",
        "print(f'합 : {result}')\n",
        "print(f'평균 : {result / 5}')"
      ],
      "metadata": {
        "id": "6tyvHJu3mnFY",
        "colab": {
          "base_uri": "https://localhost:8080/"
        },
        "outputId": "4dbd545b-f149-42df-e468-7cca682e7bfa"
      },
      "execution_count": null,
      "outputs": [
        {
          "output_type": "stream",
          "name": "stdout",
          "text": [
            "0번째  성적 입력 : 100\n",
            "1번째  성적 입력 : 100\n",
            "2번째  성적 입력 : 50\n",
            "3번째  성적 입력 : 16\n",
            "4번째  성적 입력 : 100\n",
            "합 : 366\n",
            "평균 : 73.2\n"
          ]
        }
      ]
    },
    {
      "cell_type": "code",
      "source": [
        "test_list = ['one', 'two', 'three']\n",
        "for i in test_list :\n",
        "  print(i)"
      ],
      "metadata": {
        "id": "Syo-8VyzmnHz",
        "colab": {
          "base_uri": "https://localhost:8080/"
        },
        "outputId": "97c109d5-0798-4c5b-e99d-b019f00d8650"
      },
      "execution_count": null,
      "outputs": [
        {
          "output_type": "stream",
          "name": "stdout",
          "text": [
            "one\n",
            "two\n",
            "three\n"
          ]
        }
      ]
    },
    {
      "cell_type": "code",
      "source": [
        "for i in range(1, 10) :\n",
        "  print(i)"
      ],
      "metadata": {
        "id": "ShDX5WRYmnK-",
        "colab": {
          "base_uri": "https://localhost:8080/"
        },
        "outputId": "0ecf6aac-c0ee-4f05-a290-d9d2748720b1"
      },
      "execution_count": null,
      "outputs": [
        {
          "output_type": "stream",
          "name": "stdout",
          "text": [
            "1\n",
            "2\n",
            "3\n",
            "4\n",
            "5\n",
            "6\n",
            "7\n",
            "8\n",
            "9\n"
          ]
        }
      ]
    },
    {
      "cell_type": "code",
      "source": [
        "result = 0\n",
        "for a in range(1, 101) :\n",
        "  result = result + a\n",
        "  print(f\"(a) {result}\")\n",
        "\n",
        "print(result)\n"
      ],
      "metadata": {
        "id": "ryaqwZzqmnNj",
        "colab": {
          "base_uri": "https://localhost:8080/"
        },
        "outputId": "32694d4c-ec7f-4d7c-e495-520754c608c2"
      },
      "execution_count": null,
      "outputs": [
        {
          "output_type": "stream",
          "name": "stdout",
          "text": [
            "(a) 1\n",
            "(a) 3\n",
            "(a) 6\n",
            "(a) 10\n",
            "(a) 15\n",
            "(a) 21\n",
            "(a) 28\n",
            "(a) 36\n",
            "(a) 45\n",
            "(a) 55\n",
            "(a) 66\n",
            "(a) 78\n",
            "(a) 91\n",
            "(a) 105\n",
            "(a) 120\n",
            "(a) 136\n",
            "(a) 153\n",
            "(a) 171\n",
            "(a) 190\n",
            "(a) 210\n",
            "(a) 231\n",
            "(a) 253\n",
            "(a) 276\n",
            "(a) 300\n",
            "(a) 325\n",
            "(a) 351\n",
            "(a) 378\n",
            "(a) 406\n",
            "(a) 435\n",
            "(a) 465\n",
            "(a) 496\n",
            "(a) 528\n",
            "(a) 561\n",
            "(a) 595\n",
            "(a) 630\n",
            "(a) 666\n",
            "(a) 703\n",
            "(a) 741\n",
            "(a) 780\n",
            "(a) 820\n",
            "(a) 861\n",
            "(a) 903\n",
            "(a) 946\n",
            "(a) 990\n",
            "(a) 1035\n",
            "(a) 1081\n",
            "(a) 1128\n",
            "(a) 1176\n",
            "(a) 1225\n",
            "(a) 1275\n",
            "(a) 1326\n",
            "(a) 1378\n",
            "(a) 1431\n",
            "(a) 1485\n",
            "(a) 1540\n",
            "(a) 1596\n",
            "(a) 1653\n",
            "(a) 1711\n",
            "(a) 1770\n",
            "(a) 1830\n",
            "(a) 1891\n",
            "(a) 1953\n",
            "(a) 2016\n",
            "(a) 2080\n",
            "(a) 2145\n",
            "(a) 2211\n",
            "(a) 2278\n",
            "(a) 2346\n",
            "(a) 2415\n",
            "(a) 2485\n",
            "(a) 2556\n",
            "(a) 2628\n",
            "(a) 2701\n",
            "(a) 2775\n",
            "(a) 2850\n",
            "(a) 2926\n",
            "(a) 3003\n",
            "(a) 3081\n",
            "(a) 3160\n",
            "(a) 3240\n",
            "(a) 3321\n",
            "(a) 3403\n",
            "(a) 3486\n",
            "(a) 3570\n",
            "(a) 3655\n",
            "(a) 3741\n",
            "(a) 3828\n",
            "(a) 3916\n",
            "(a) 4005\n",
            "(a) 4095\n",
            "(a) 4186\n",
            "(a) 4278\n",
            "(a) 4371\n",
            "(a) 4465\n",
            "(a) 4560\n",
            "(a) 4656\n",
            "(a) 4753\n",
            "(a) 4851\n",
            "(a) 4950\n",
            "(a) 5050\n",
            "5050\n"
          ]
        }
      ]
    },
    {
      "cell_type": "code",
      "source": [
        "result = 0\n",
        "for a in range(1,101):\n",
        "  result = result + a\n",
        "  print(f'{a} : sum = {result}')\n",
        "  if result > 100:\n",
        "    break\n",
        "\n",
        "print(result)"
      ],
      "metadata": {
        "id": "sJSXdm45mnP4",
        "colab": {
          "base_uri": "https://localhost:8080/"
        },
        "outputId": "809147c8-195f-4e14-f0aa-c0d033d901bb"
      },
      "execution_count": null,
      "outputs": [
        {
          "output_type": "stream",
          "name": "stdout",
          "text": [
            "1 : sum = 1\n",
            "2 : sum = 3\n",
            "3 : sum = 6\n",
            "4 : sum = 10\n",
            "5 : sum = 15\n",
            "6 : sum = 21\n",
            "7 : sum = 28\n",
            "8 : sum = 36\n",
            "9 : sum = 45\n",
            "10 : sum = 55\n",
            "11 : sum = 66\n",
            "12 : sum = 78\n",
            "13 : sum = 91\n",
            "14 : sum = 105\n",
            "105\n"
          ]
        }
      ]
    },
    {
      "cell_type": "code",
      "source": [
        "index = 0\n",
        "s = \"BlockDMask\"\n",
        "for a in s:\n",
        "  print(a, end=' ')\n",
        "  if a == 'k':\n",
        "    break\n",
        "\n",
        "  index = index + 1\n",
        "\n",
        "\n",
        "print(index)\n"
      ],
      "metadata": {
        "id": "UJAlMF9tmnSe",
        "colab": {
          "base_uri": "https://localhost:8080/"
        },
        "outputId": "fc3c84d1-6d79-4e20-d273-0b3d08105dee"
      },
      "execution_count": null,
      "outputs": [
        {
          "output_type": "stream",
          "name": "stdout",
          "text": [
            "B l o c k 4\n"
          ]
        }
      ]
    },
    {
      "cell_type": "code",
      "source": [
        "student = [180, 170, 164, 199, 182, 172, 177]\n",
        "for a in student:\n",
        "  if a <= 170:\n",
        "    print(a)\n"
      ],
      "metadata": {
        "id": "0LfNoRFbmnUx",
        "colab": {
          "base_uri": "https://localhost:8080/"
        },
        "outputId": "f804d147-c8b1-4ed7-da75-8d1415fcabea"
      },
      "execution_count": null,
      "outputs": [
        {
          "output_type": "stream",
          "name": "stdout",
          "text": [
            "170\n",
            "164\n"
          ]
        }
      ]
    },
    {
      "cell_type": "code",
      "source": [
        "result = 0\n",
        "for a in range(1,101):\n",
        "  if a % 2 == 1:\n",
        "    result = result + a\n",
        "\n",
        "print(result)"
      ],
      "metadata": {
        "id": "RXNlk8EimnW7",
        "colab": {
          "base_uri": "https://localhost:8080/"
        },
        "outputId": "597fd862-5874-4dc8-9e3c-0d7f5dcd13fa"
      },
      "execution_count": null,
      "outputs": [
        {
          "output_type": "stream",
          "name": "stdout",
          "text": [
            "2500\n"
          ]
        }
      ]
    },
    {
      "cell_type": "code",
      "source": [
        "result = 0\n",
        "for a in range(1,101):\n",
        "  if a % 2 == 0:\n",
        "\n",
        "    continue\n",
        "  result = result + a\n",
        "\n",
        "print(result)\n"
      ],
      "metadata": {
        "colab": {
          "base_uri": "https://localhost:8080/"
        },
        "id": "5phMySbBm_bW",
        "outputId": "b676c325-a2c9-460c-92c6-3f9597c626aa"
      },
      "execution_count": null,
      "outputs": [
        {
          "output_type": "stream",
          "name": "stdout",
          "text": [
            "2500\n"
          ]
        }
      ]
    },
    {
      "cell_type": "code",
      "source": [
        "l = ['Alice', 'Bob', 'Charlie']\n",
        "\n",
        "for name in l:\n",
        "  if name == 'Bob':\n",
        "    print(\"Break!\")\n",
        "    break\n",
        "  print(name)\n",
        "else:\n",
        "  print(\"!!Finish\")"
      ],
      "metadata": {
        "colab": {
          "base_uri": "https://localhost:8080/"
        },
        "id": "6xsKEhl1m_do",
        "outputId": "3d70938a-03a4-4dbd-dc43-64b7c828b36f"
      },
      "execution_count": null,
      "outputs": [
        {
          "output_type": "stream",
          "name": "stdout",
          "text": [
            "Alice\n",
            "Break!\n"
          ]
        }
      ]
    },
    {
      "cell_type": "code",
      "source": [
        "sr = ['father', 'mother', 'brother']\n",
        "cnt = 0\n",
        "for s in sr:\n",
        "  print(s)\n",
        "  for c in s:\n",
        "    print(c, end= ' ')\n",
        "    if c == 'r':\n",
        "      print(' ')\n",
        "      cnt += 1\n",
        "print(cnt)"
      ],
      "metadata": {
        "colab": {
          "base_uri": "https://localhost:8080/"
        },
        "id": "xXiGC638m_f2",
        "outputId": "497b0401-b292-4790-f01d-c563e53e0b7a"
      },
      "execution_count": null,
      "outputs": [
        {
          "output_type": "stream",
          "name": "stdout",
          "text": [
            "father\n",
            "f a t h e r  \n",
            "mother\n",
            "m o t h e r  \n",
            "brother\n",
            "b r  \n",
            "o t h e r  \n",
            "4\n"
          ]
        }
      ]
    },
    {
      "cell_type": "code",
      "source": [
        "a = []\n",
        "\n",
        "for i in range(10):\n",
        "  a.append(i)\n",
        "\n",
        "print(a)\n"
      ],
      "metadata": {
        "colab": {
          "base_uri": "https://localhost:8080/"
        },
        "id": "sBKT6ocJm_iv",
        "outputId": "2d6da8c3-091a-4d7b-96e4-c46efcb9cb22"
      },
      "execution_count": null,
      "outputs": [
        {
          "output_type": "stream",
          "name": "stdout",
          "text": [
            "[0, 1, 2, 3, 4, 5, 6, 7, 8, 9]\n"
          ]
        }
      ]
    },
    {
      "cell_type": "code",
      "source": [
        "a =[]\n",
        "\n",
        "for i in range(3):\n",
        "  line = []\n",
        "  for j in range(2):\n",
        "    line.append(j+i)\n",
        "  a.append(line)\n",
        "\n",
        "print(a)"
      ],
      "metadata": {
        "id": "nS6VwP-jmnZH",
        "colab": {
          "base_uri": "https://localhost:8080/"
        },
        "outputId": "baae168e-77c1-42f4-b4dd-b179e8bea67d"
      },
      "execution_count": null,
      "outputs": [
        {
          "output_type": "stream",
          "name": "stdout",
          "text": [
            "[[0, 1], [1, 2], [2, 3]]\n"
          ]
        }
      ]
    },
    {
      "cell_type": "code",
      "source": [
        "l = ['Alice', 'Bob', 'Charlie']\n",
        "\n",
        "for name in l:\n",
        "  print(name)\n",
        "\n",
        "for i, name in enumerate(l, 42):\n",
        "  print(i, name)"
      ],
      "metadata": {
        "colab": {
          "base_uri": "https://localhost:8080/"
        },
        "id": "7DMeHJGUnFSA",
        "outputId": "9de5b12c-1479-496c-c11d-f1d26f34ee71"
      },
      "execution_count": null,
      "outputs": [
        {
          "output_type": "stream",
          "name": "stdout",
          "text": [
            "Alice\n",
            "Bob\n",
            "Charlie\n",
            "42 Alice\n",
            "43 Bob\n",
            "44 Charlie\n"
          ]
        }
      ]
    }
  ]
}