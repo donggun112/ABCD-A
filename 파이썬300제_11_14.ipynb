{
  "nbformat": 4,
  "nbformat_minor": 0,
  "metadata": {
    "colab": {
      "provenance": [],
      "authorship_tag": "ABX9TyMegoc7y0ZBFNk1DyZqd/Di",
      "include_colab_link": true
    },
    "kernelspec": {
      "name": "python3",
      "display_name": "Python 3"
    },
    "language_info": {
      "name": "python"
    }
  },
  "cells": [
    {
      "cell_type": "markdown",
      "metadata": {
        "id": "view-in-github",
        "colab_type": "text"
      },
      "source": [
        "<a href=\"https://colab.research.google.com/github/donggun112/ABCD-A/blob/20250328/%ED%8C%8C%EC%9D%B4%EC%8D%AC300%EC%A0%9C_11_14.ipynb\" target=\"_parent\"><img src=\"https://colab.research.google.com/assets/colab-badge.svg\" alt=\"Open In Colab\"/></a>"
      ]
    },
    {
      "cell_type": "code",
      "execution_count": 5,
      "metadata": {
        "colab": {
          "base_uri": "https://localhost:8080/"
        },
        "id": "5J2ZL7RAHRgs",
        "outputId": "3806e6b4-2738-4396-ca48-99d1ca7574f1"
      },
      "outputs": [
        {
          "output_type": "stream",
          "name": "stdout",
          "text": [
            "총 평가금액: 500000 원\n"
          ]
        }
      ],
      "source": [
        "삼성전자=50000\n",
        "\n",
        "총평가금액 = 삼성전자 * 10\n",
        "print(\"총 평가금액:\", 총평가금액, \"원\")"
      ]
    },
    {
      "cell_type": "code",
      "source": [
        "시가총액 = 298000000000000\n",
        "현재가 = 50000\n",
        "PER = 15.79\n",
        "print(\"시가총액\", 시가총액)\n",
        "print(\"현재가\", 현재가)\n",
        "print(\"PER\", PER)"
      ],
      "metadata": {
        "colab": {
          "base_uri": "https://localhost:8080/"
        },
        "id": "eDNb9MEcHYx_",
        "outputId": "d3691960-a29b-4b17-c47d-b83fe39da06c"
      },
      "execution_count": 6,
      "outputs": [
        {
          "output_type": "stream",
          "name": "stdout",
          "text": [
            "시가총액 298000000000000\n",
            "현재가 50000\n",
            "PER 15.79\n"
          ]
        }
      ]
    },
    {
      "cell_type": "code",
      "source": [
        "s=\"hello! \"\n",
        "t=\"python\"\n",
        "print(s+t)\n",
        ""
      ],
      "metadata": {
        "colab": {
          "base_uri": "https://localhost:8080/"
        },
        "id": "V1WNpgt5HY2S",
        "outputId": "837fc3bd-43b2-4a9c-a0aa-2627bf740f69"
      },
      "execution_count": 3,
      "outputs": [
        {
          "output_type": "stream",
          "name": "stdout",
          "text": [
            "hello! python\n"
          ]
        }
      ]
    },
    {
      "cell_type": "code",
      "source": [
        "a=2\n",
        "b=3\n",
        "a+a*b"
      ],
      "metadata": {
        "colab": {
          "base_uri": "https://localhost:8080/"
        },
        "id": "PYRMdiBBHY6-",
        "outputId": "55980a6f-f9a3-4d89-9f1c-26971c1f9f84"
      },
      "execution_count": 4,
      "outputs": [
        {
          "output_type": "execute_result",
          "data": {
            "text/plain": [
              "8"
            ]
          },
          "metadata": {},
          "execution_count": 4
        }
      ]
    }
  ]
}