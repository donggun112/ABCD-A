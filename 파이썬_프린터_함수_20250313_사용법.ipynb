{
  "nbformat": 4,
  "nbformat_minor": 0,
  "metadata": {
    "colab": {
      "provenance": [],
      "authorship_tag": "ABX9TyOU/tNyRk9+7pNy2CY6iuXL",
      "include_colab_link": true
    },
    "kernelspec": {
      "name": "python3",
      "display_name": "Python 3"
    },
    "language_info": {
      "name": "python"
    }
  },
  "cells": [
    {
      "cell_type": "markdown",
      "metadata": {
        "id": "view-in-github",
        "colab_type": "text"
      },
      "source": [
        "<a href=\"https://colab.research.google.com/github/donggun112/ABCD-A/blob/20250313/%ED%8C%8C%EC%9D%B4%EC%8D%AC_%ED%94%84%EB%A6%B0%ED%84%B0_%ED%95%A8%EC%88%98_20250313_%EC%82%AC%EC%9A%A9%EB%B2%95.ipynb\" target=\"_parent\"><img src=\"https://colab.research.google.com/assets/colab-badge.svg\" alt=\"Open In Colab\"/></a>"
      ]
    },
    {
      "cell_type": "code",
      "execution_count": 1,
      "metadata": {
        "colab": {
          "base_uri": "https://localhost:8080/"
        },
        "id": "d3LRDqX0wVAf",
        "outputId": "6ef94850-b1ea-46f2-b74a-878e75058d8b"
      },
      "outputs": [
        {
          "output_type": "stream",
          "name": "stdout",
          "text": [
            "hello\n",
            "hello everyone\n",
            "helloeveryone\n",
            "hello!!!test\n"
          ]
        }
      ],
      "source": [
        "print(\"hello\")\n",
        "print('hello', 'everyone')\n",
        "print('hello'+'everyone')\n",
        "print('hello', end= '!!!')\n",
        "print('test')"
      ]
    },
    {
      "cell_type": "code",
      "source": [
        "a = 123\n",
        "b ='hello'\n",
        "print(a, b)\n",
        "print(a, 456, b, 'world')"
      ],
      "metadata": {
        "colab": {
          "base_uri": "https://localhost:8080/"
        },
        "id": "IP0NWVgJxAQ2",
        "outputId": "c983c30a-7e3e-45e3-a7c7-ecbb67cfad19"
      },
      "execution_count": 2,
      "outputs": [
        {
          "output_type": "stream",
          "name": "stdout",
          "text": [
            "123 hello\n",
            "123 456 hello world\n"
          ]
        }
      ]
    },
    {
      "cell_type": "code",
      "source": [
        "print('Hello Python!')\n",
        "print(\"Nicr to meet you\")\n",
        "print('Hello \"Python\"')\n",
        "print('Hello' 'Python!')\n",
        "print('Hello', 'Python!')\n",
        "print('Hello' + 'Python!')"
      ],
      "metadata": {
        "colab": {
          "base_uri": "https://localhost:8080/"
        },
        "id": "edu9PlKrxATh",
        "outputId": "e30629b0-c59c-402d-8efa-051dc19b0c8b"
      },
      "execution_count": 3,
      "outputs": [
        {
          "output_type": "stream",
          "name": "stdout",
          "text": [
            "Hello Python!\n",
            "Nicr to meet you\n",
            "Hello \"Python\"\n",
            "HelloPython!\n",
            "Hello Python!\n",
            "HelloPython!\n"
          ]
        }
      ]
    },
    {
      "cell_type": "code",
      "source": [
        "print(\"화면에 직접 출력\")\n",
        "print('ab\\'c')\n",
        "print(\"doesn't\")\n",
        "print('does')\n",
        "print('doesn\\'t')\n",
        "print(\"'string'\")\n",
        "print(\"\\\"string\\\"\")\n",
        "print('\"string\"')"
      ],
      "metadata": {
        "colab": {
          "base_uri": "https://localhost:8080/"
        },
        "id": "O28sSXdTxAV-",
        "outputId": "fe622b98-03db-47e2-d054-36696094df0f"
      },
      "execution_count": 4,
      "outputs": [
        {
          "output_type": "stream",
          "name": "stdout",
          "text": [
            "화면에 직접 출력\n",
            "ab'c\n",
            "doesn't\n",
            "does\n",
            "doesn't\n",
            "'string'\n",
            "\"string\"\n",
            "\"string\"\n"
          ]
        }
      ]
    },
    {
      "cell_type": "code",
      "source": [
        "s1 = '화면에 직접 출력'\n",
        "s2 = 'ab\\'c'\n",
        "s3 = 'does'\n",
        "print(s1)\n",
        "print(s2)\n",
        "print(s3)\n",
        "print(s1[0])\n",
        "print(s2[1])\n",
        "print(s3[-1])"
      ],
      "metadata": {
        "colab": {
          "base_uri": "https://localhost:8080/"
        },
        "id": "2pwQdsPixAaj",
        "outputId": "57877589-ee0d-496e-d6b8-d1b54939dfb4"
      },
      "execution_count": 5,
      "outputs": [
        {
          "output_type": "stream",
          "name": "stdout",
          "text": [
            "화면에 직접 출력\n",
            "ab'c\n",
            "does\n",
            "화\n",
            "b\n",
            "s\n"
          ]
        }
      ]
    },
    {
      "cell_type": "code",
      "source": [
        "a = 2\n",
        "b = 3.14\n",
        "c = a+b\n",
        "print(a)\n",
        "print(b)\n",
        "print(c)\n",
        "print(round(c, 2))\n",
        "print(\"%.2f\" % (c))\n",
        "print(a+b)\n",
        "print(a,b,a+b,c)\n",
        "d = 1e2\n",
        "e = 1e-2\n",
        "print(d)\n",
        "print(e)"
      ],
      "metadata": {
        "colab": {
          "base_uri": "https://localhost:8080/"
        },
        "id": "n0vOOZlfxAc9",
        "outputId": "9aa4c35a-e964-432c-8c3d-2b20c9075126"
      },
      "execution_count": 6,
      "outputs": [
        {
          "output_type": "stream",
          "name": "stdout",
          "text": [
            "2\n",
            "3.14\n",
            "5.140000000000001\n",
            "5.14\n",
            "5.14\n",
            "5.140000000000001\n",
            "2 3.14 5.140000000000001 5.140000000000001\n",
            "100.0\n",
            "0.01\n"
          ]
        }
      ]
    },
    {
      "cell_type": "code",
      "source": [
        "item1 = '사과'\n",
        "price1 = 1000\n",
        "item2 = '바나나'\n",
        "price2 = 500\n",
        "print(item1, price1)\n",
        "print(item2, price2)"
      ],
      "metadata": {
        "colab": {
          "base_uri": "https://localhost:8080/"
        },
        "id": "mTRWpP7axAmK",
        "outputId": "ba9ec3d7-ee4f-4ffe-84e8-18b2d700350d"
      },
      "execution_count": 7,
      "outputs": [
        {
          "output_type": "stream",
          "name": "stdout",
          "text": [
            "사과 1000\n",
            "바나나 500\n"
          ]
        }
      ]
    },
    {
      "cell_type": "code",
      "source": [
        "item1 = '사과'\n",
        "price1 = 1000\n",
        "item2 = '바나나'\n",
        "str1 = '{0}는 {1}원입니다.'\n",
        "print(str1.format(item1, price1))\n",
        "print(str1.format(item2, price2))"
      ],
      "metadata": {
        "colab": {
          "base_uri": "https://localhost:8080/"
        },
        "id": "rQZp4QGVxAoZ",
        "outputId": "40231a0a-5698-4d63-c5c2-b43618037607"
      },
      "execution_count": 8,
      "outputs": [
        {
          "output_type": "stream",
          "name": "stdout",
          "text": [
            "사과는 1000원입니다.\n",
            "바나나는 500원입니다.\n"
          ]
        }
      ]
    },
    {
      "cell_type": "code",
      "source": [
        "price1 = 1000\n",
        "item2 = '바나나'\n",
        "price2 = 500\n",
        "str2 = '%s는 %d원입니다.'\n",
        "print(str2%(item1, price1))\n",
        "print(str2%(item2, price2))"
      ],
      "metadata": {
        "colab": {
          "base_uri": "https://localhost:8080/"
        },
        "id": "SiIXCkg9xjHI",
        "outputId": "7a1c31c4-18cb-4c7e-acb7-e94a24397712"
      },
      "execution_count": 9,
      "outputs": [
        {
          "output_type": "stream",
          "name": "stdout",
          "text": [
            "사과는 1000원입니다.\n",
            "바나나는 500원입니다.\n"
          ]
        }
      ]
    }
  ]
}